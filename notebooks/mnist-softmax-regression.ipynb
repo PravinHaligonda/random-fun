{
 "cells": [
  {
   "cell_type": "markdown",
   "metadata": {},
   "source": [
    "### Softmax Regression on MNIST\n",
    "#### Implementation of softmax regression (multinomial logistic regression)"
   ]
  },
  {
   "cell_type": "markdown",
   "metadata": {},
   "source": [
    "#### Imports"
   ]
  },
  {
   "cell_type": "code",
   "execution_count": 2,
   "metadata": {},
   "outputs": [],
   "source": [
    "import time\n",
    "import torch\n",
    "import torch.nn.functional as F\n",
    "from torchvision import datasets\n",
    "from torchvision import transforms\n",
    "from torch.utils.data import DataLoader\n",
    "import matplotlib.pyplot as plt\n",
    "%matplotlib inline"
   ]
  },
  {
   "cell_type": "markdown",
   "metadata": {},
   "source": [
    "## Load the Dataset"
   ]
  },
  {
   "cell_type": "code",
   "execution_count": 3,
   "metadata": {},
   "outputs": [],
   "source": [
    "# Define MNIST training dataset\n",
    "train_dataset = datasets.MNIST(root='mnist',\n",
    "                train=True,\n",
    "                download=True,\n",
    "                transform=transforms.ToTensor())\n",
    "\n",
    "# Define MNIST testing dataset\n",
    "test_dataset = datasets.MNIST(root='mnist',\n",
    "                train=False,\n",
    "                transform=transforms.ToTensor())\n",
    "\n",
    "# Download MNIST training dataset of batch size 256\n",
    "train_loader = DataLoader(dataset=train_dataset,\n",
    "            shuffle=True,\n",
    "            batch_size=256)\n",
    "\n",
    "# Download MNIST testing dataset of batch size 256\n",
    "test_loader = DataLoader(dataset=test_dataset,\n",
    "            shuffle=False,\n",
    "            batch_size=256)"
   ]
  },
  {
   "cell_type": "code",
   "execution_count": 4,
   "metadata": {},
   "outputs": [
    {
     "name": "stdout",
     "output_type": "stream",
     "text": [
      "Shape of feature image:  torch.Size([256, 1, 28, 28])\n",
      "Shape of label image:  torch.Size([256])\n"
     ]
    }
   ],
   "source": [
    "for images, labels in train_loader:\n",
    "    print(\"Shape of feature image: \", images.shape)\n",
    "    print(\"Shape of label image: \", labels.shape)\n",
    "    break"
   ]
  },
  {
   "cell_type": "code",
   "execution_count": 5,
   "metadata": {},
   "outputs": [
    {
     "name": "stdout",
     "output_type": "stream",
     "text": [
      "torch.Size([256, 1, 28, 28])\n"
     ]
    },
    {
     "name": "stderr",
     "output_type": "stream",
     "text": [
      "C:\\Users\\halig\\AppData\\Local\\Temp\\ipykernel_21120\\2409859267.py:2: UserWarning: To copy construct from a tensor, it is recommended to use sourceTensor.clone().detach() or sourceTensor.clone().detach().requires_grad_(True), rather than torch.tensor(sourceTensor).\n",
      "  print(torch.tensor(targets[0]).shape)\n"
     ]
    }
   ],
   "source": [
    "for targets in test_loader:\n",
    "    print(torch.tensor(targets[0]).shape)\n",
    "    break"
   ]
  },
  {
   "cell_type": "markdown",
   "metadata": {},
   "source": [
    "## Define, Initialise Model"
   ]
  },
  {
   "cell_type": "code",
   "execution_count": 6,
   "metadata": {},
   "outputs": [],
   "source": [
    "class SoftmaxRegression(torch.nn.Module):\n",
    "\n",
    "    def __init__(self, num_features, num_classes):\n",
    "        super(SoftmaxRegression, self).__init__() #class inheritance to ensure that the parent class is properly initialized.\n",
    "\n",
    "        self.linear = torch.nn.Linear(num_features, num_classes) # Net inputs\n",
    "        self.linear.weight.detach().zero_() # how the weight initialized\n",
    "        self.linear.bias.detach().zero_()  # how the bias are initialized\n",
    "\n",
    "    def forward(self, x):\n",
    "        logits = self.linear(x) # calling the linear\n",
    "        probs = F.softmax(logits, dim=1) # applying softmax non-linearity activation function\n",
    "        return logits, probs"
   ]
  },
  {
   "cell_type": "code",
   "execution_count": 7,
   "metadata": {},
   "outputs": [],
   "source": [
    "model = SoftmaxRegression(num_features=784, num_classes=10)"
   ]
  },
  {
   "cell_type": "code",
   "execution_count": 8,
   "metadata": {},
   "outputs": [],
   "source": [
    "DEVICE = ('cuda:0' if torch.cuda.is_available() else 'cpu')"
   ]
  },
  {
   "cell_type": "code",
   "execution_count": 9,
   "metadata": {},
   "outputs": [
    {
     "data": {
      "text/plain": [
       "SoftmaxRegression(\n",
       "  (linear): Linear(in_features=784, out_features=10, bias=True)\n",
       ")"
      ]
     },
     "execution_count": 9,
     "metadata": {},
     "output_type": "execute_result"
    }
   ],
   "source": [
    "model.to(DEVICE)"
   ]
  },
  {
   "cell_type": "code",
   "execution_count": 10,
   "metadata": {},
   "outputs": [],
   "source": [
    "optimizer = torch.optim.SGD(model.parameters(), lr=0.1)"
   ]
  },
  {
   "cell_type": "code",
   "execution_count": 11,
   "metadata": {},
   "outputs": [],
   "source": [
    "# Cost function\n",
    "def compute_accuracy(model, data_loader):\n",
    "    correct_prediction, num_examples = 0, 0\n",
    "\n",
    "    for features, labels in data_loader:\n",
    "        # Data Parallelizm if GPU is available\n",
    "        features = features.view(-1, 28*28).to(DEVICE)\n",
    "        labels = labels.to(DEVICE)\n",
    "        \n",
    "        logits, probs = model(features)\n",
    "        _, predicted_labels = torch.max(probs, 1)\n",
    "        num_examples += labels.size(0)\n",
    "        correct_prediction += (predicted_labels == labels).sum()\n",
    "\n",
    "    return correct_prediction.float() / num_examples * 100"
   ]
  },
  {
   "cell_type": "markdown",
   "metadata": {},
   "source": [
    "## Training on Mnist Dataset"
   ]
  },
  {
   "cell_type": "code",
   "execution_count": 12,
   "metadata": {},
   "outputs": [
    {
     "name": "stdout",
     "output_type": "stream",
     "text": [
      "Epoch: 001/020 | Batch 000/234 | Cost: 2.3026\n",
      "Epoch: 001/020 | Batch 050/234 | Cost: 0.8031\n",
      "Epoch: 001/020 | Batch 100/234 | Cost: 0.5555\n",
      "Epoch: 001/020 | Batch 150/234 | Cost: 0.5965\n",
      "Epoch: 001/020 | Batch 200/234 | Cost: 0.4996\n",
      "Epoch: 001/010 training accuracy: 88.09%\n",
      "Time elapsed: 0.20 min\n",
      "Epoch: 002/020 | Batch 000/234 | Cost: 0.5132\n",
      "Epoch: 002/020 | Batch 050/234 | Cost: 0.3851\n",
      "Epoch: 002/020 | Batch 100/234 | Cost: 0.4232\n",
      "Epoch: 002/020 | Batch 150/234 | Cost: 0.4605\n",
      "Epoch: 002/020 | Batch 200/234 | Cost: 0.3870\n",
      "Epoch: 002/010 training accuracy: 89.27%\n",
      "Time elapsed: 0.40 min\n",
      "Epoch: 003/020 | Batch 000/234 | Cost: 0.4562\n",
      "Epoch: 003/020 | Batch 050/234 | Cost: 0.4024\n",
      "Epoch: 003/020 | Batch 100/234 | Cost: 0.4582\n",
      "Epoch: 003/020 | Batch 150/234 | Cost: 0.4332\n",
      "Epoch: 003/020 | Batch 200/234 | Cost: 0.3941\n",
      "Epoch: 003/010 training accuracy: 89.96%\n",
      "Time elapsed: 0.60 min\n",
      "Epoch: 004/020 | Batch 000/234 | Cost: 0.4309\n",
      "Epoch: 004/020 | Batch 050/234 | Cost: 0.3756\n",
      "Epoch: 004/020 | Batch 100/234 | Cost: 0.4145\n",
      "Epoch: 004/020 | Batch 150/234 | Cost: 0.3629\n",
      "Epoch: 004/020 | Batch 200/234 | Cost: 0.3423\n",
      "Epoch: 004/010 training accuracy: 90.29%\n",
      "Time elapsed: 0.80 min\n",
      "Epoch: 005/020 | Batch 000/234 | Cost: 0.3825\n",
      "Epoch: 005/020 | Batch 050/234 | Cost: 0.3199\n",
      "Epoch: 005/020 | Batch 100/234 | Cost: 0.4013\n",
      "Epoch: 005/020 | Batch 150/234 | Cost: 0.3001\n",
      "Epoch: 005/020 | Batch 200/234 | Cost: 0.4223\n",
      "Epoch: 005/010 training accuracy: 90.57%\n",
      "Time elapsed: 1.00 min\n",
      "Epoch: 006/020 | Batch 000/234 | Cost: 0.3025\n",
      "Epoch: 006/020 | Batch 050/234 | Cost: 0.3818\n",
      "Epoch: 006/020 | Batch 100/234 | Cost: 0.3732\n",
      "Epoch: 006/020 | Batch 150/234 | Cost: 0.3696\n",
      "Epoch: 006/020 | Batch 200/234 | Cost: 0.3232\n",
      "Epoch: 006/010 training accuracy: 90.86%\n",
      "Time elapsed: 1.21 min\n",
      "Epoch: 007/020 | Batch 000/234 | Cost: 0.3413\n",
      "Epoch: 007/020 | Batch 050/234 | Cost: 0.3125\n",
      "Epoch: 007/020 | Batch 100/234 | Cost: 0.3225\n",
      "Epoch: 007/020 | Batch 150/234 | Cost: 0.3224\n",
      "Epoch: 007/020 | Batch 200/234 | Cost: 0.3921\n",
      "Epoch: 007/010 training accuracy: 91.02%\n",
      "Time elapsed: 1.41 min\n",
      "Epoch: 008/020 | Batch 000/234 | Cost: 0.2383\n",
      "Epoch: 008/020 | Batch 050/234 | Cost: 0.3415\n",
      "Epoch: 008/020 | Batch 100/234 | Cost: 0.3088\n",
      "Epoch: 008/020 | Batch 150/234 | Cost: 0.3276\n",
      "Epoch: 008/020 | Batch 200/234 | Cost: 0.2562\n",
      "Epoch: 008/010 training accuracy: 91.23%\n",
      "Time elapsed: 1.61 min\n",
      "Epoch: 009/020 | Batch 000/234 | Cost: 0.2931\n",
      "Epoch: 009/020 | Batch 050/234 | Cost: 0.2484\n",
      "Epoch: 009/020 | Batch 100/234 | Cost: 0.3858\n",
      "Epoch: 009/020 | Batch 150/234 | Cost: 0.3672\n",
      "Epoch: 009/020 | Batch 200/234 | Cost: 0.3482\n",
      "Epoch: 009/010 training accuracy: 91.30%\n",
      "Time elapsed: 1.80 min\n",
      "Epoch: 010/020 | Batch 000/234 | Cost: 0.3059\n",
      "Epoch: 010/020 | Batch 050/234 | Cost: 0.2688\n",
      "Epoch: 010/020 | Batch 100/234 | Cost: 0.3430\n",
      "Epoch: 010/020 | Batch 150/234 | Cost: 0.3556\n",
      "Epoch: 010/020 | Batch 200/234 | Cost: 0.2670\n",
      "Epoch: 010/010 training accuracy: 91.48%\n",
      "Time elapsed: 2.00 min\n",
      "Epoch: 011/020 | Batch 000/234 | Cost: 0.3517\n",
      "Epoch: 011/020 | Batch 050/234 | Cost: 0.3006\n",
      "Epoch: 011/020 | Batch 100/234 | Cost: 0.2311\n",
      "Epoch: 011/020 | Batch 150/234 | Cost: 0.3278\n",
      "Epoch: 011/020 | Batch 200/234 | Cost: 0.3751\n",
      "Epoch: 011/010 training accuracy: 91.48%\n",
      "Time elapsed: 2.20 min\n",
      "Epoch: 012/020 | Batch 000/234 | Cost: 0.2797\n",
      "Epoch: 012/020 | Batch 050/234 | Cost: 0.2811\n",
      "Epoch: 012/020 | Batch 100/234 | Cost: 0.3027\n",
      "Epoch: 012/020 | Batch 150/234 | Cost: 0.3106\n",
      "Epoch: 012/020 | Batch 200/234 | Cost: 0.2921\n",
      "Epoch: 012/010 training accuracy: 91.61%\n",
      "Time elapsed: 2.40 min\n",
      "Epoch: 013/020 | Batch 000/234 | Cost: 0.2500\n",
      "Epoch: 013/020 | Batch 050/234 | Cost: 0.3288\n",
      "Epoch: 013/020 | Batch 100/234 | Cost: 0.2995\n",
      "Epoch: 013/020 | Batch 150/234 | Cost: 0.3612\n",
      "Epoch: 013/020 | Batch 200/234 | Cost: 0.2633\n",
      "Epoch: 013/010 training accuracy: 91.69%\n",
      "Time elapsed: 2.60 min\n",
      "Epoch: 014/020 | Batch 000/234 | Cost: 0.2806\n",
      "Epoch: 014/020 | Batch 050/234 | Cost: 0.2767\n",
      "Epoch: 014/020 | Batch 100/234 | Cost: 0.4323\n",
      "Epoch: 014/020 | Batch 150/234 | Cost: 0.3549\n",
      "Epoch: 014/020 | Batch 200/234 | Cost: 0.2978\n",
      "Epoch: 014/010 training accuracy: 91.78%\n",
      "Time elapsed: 2.80 min\n",
      "Epoch: 015/020 | Batch 000/234 | Cost: 0.3092\n",
      "Epoch: 015/020 | Batch 050/234 | Cost: 0.3066\n",
      "Epoch: 015/020 | Batch 100/234 | Cost: 0.2600\n",
      "Epoch: 015/020 | Batch 150/234 | Cost: 0.3237\n",
      "Epoch: 015/020 | Batch 200/234 | Cost: 0.3797\n",
      "Epoch: 015/010 training accuracy: 91.84%\n",
      "Time elapsed: 3.00 min\n",
      "Epoch: 016/020 | Batch 000/234 | Cost: 0.4035\n",
      "Epoch: 016/020 | Batch 050/234 | Cost: 0.3394\n",
      "Epoch: 016/020 | Batch 100/234 | Cost: 0.3226\n",
      "Epoch: 016/020 | Batch 150/234 | Cost: 0.3628\n",
      "Epoch: 016/020 | Batch 200/234 | Cost: 0.2760\n",
      "Epoch: 016/010 training accuracy: 91.85%\n",
      "Time elapsed: 3.19 min\n",
      "Epoch: 017/020 | Batch 000/234 | Cost: 0.2960\n",
      "Epoch: 017/020 | Batch 050/234 | Cost: 0.2338\n",
      "Epoch: 017/020 | Batch 100/234 | Cost: 0.2884\n",
      "Epoch: 017/020 | Batch 150/234 | Cost: 0.2301\n",
      "Epoch: 017/020 | Batch 200/234 | Cost: 0.3039\n",
      "Epoch: 017/010 training accuracy: 91.89%\n",
      "Time elapsed: 3.39 min\n",
      "Epoch: 018/020 | Batch 000/234 | Cost: 0.2561\n",
      "Epoch: 018/020 | Batch 050/234 | Cost: 0.3237\n",
      "Epoch: 018/020 | Batch 100/234 | Cost: 0.3330\n",
      "Epoch: 018/020 | Batch 150/234 | Cost: 0.2547\n",
      "Epoch: 018/020 | Batch 200/234 | Cost: 0.3515\n",
      "Epoch: 018/010 training accuracy: 92.01%\n",
      "Time elapsed: 3.59 min\n",
      "Epoch: 019/020 | Batch 000/234 | Cost: 0.2774\n",
      "Epoch: 019/020 | Batch 050/234 | Cost: 0.3003\n",
      "Epoch: 019/020 | Batch 100/234 | Cost: 0.1808\n",
      "Epoch: 019/020 | Batch 150/234 | Cost: 0.3613\n",
      "Epoch: 019/020 | Batch 200/234 | Cost: 0.2125\n",
      "Epoch: 019/010 training accuracy: 92.04%\n",
      "Time elapsed: 3.79 min\n",
      "Epoch: 020/020 | Batch 000/234 | Cost: 0.3142\n",
      "Epoch: 020/020 | Batch 050/234 | Cost: 0.2970\n",
      "Epoch: 020/020 | Batch 100/234 | Cost: 0.4106\n",
      "Epoch: 020/020 | Batch 150/234 | Cost: 0.2332\n",
      "Epoch: 020/020 | Batch 200/234 | Cost: 0.2983\n",
      "Epoch: 020/010 training accuracy: 91.99%\n",
      "Time elapsed: 3.99 min\n"
     ]
    }
   ],
   "source": [
    "import time\n",
    "start_time = time.time()\n",
    "epoch_costs = []\n",
    "for epoch in range(20):\n",
    "    avg_cost = 0.\n",
    "    for batch_idx, (features, labels) in enumerate(train_loader):\n",
    "\n",
    "        # Data Parallelism or Load the data to device\n",
    "        features = features.view(-1, 28*28).to(DEVICE)\n",
    "        labels = labels.to(DEVICE)\n",
    "\n",
    "        # Forward and back prop\n",
    "        logits, probs = model(features)\n",
    "\n",
    "        cost = F.cross_entropy(logits, labels)\n",
    "        optimizer.zero_grad()\n",
    "        cost.backward()\n",
    "        avg_cost += cost \n",
    "\n",
    "        # Update the model parameter\n",
    "        optimizer.step()\n",
    "\n",
    "        # Logging\n",
    "        if not batch_idx % 50:\n",
    "           print ('Epoch: %03d/%03d | Batch %03d/%03d | Cost: %.4f' \n",
    "                   %(epoch+1, 20, batch_idx, \n",
    "                     len(train_dataset)//256, cost))\n",
    "\n",
    "    with torch.set_grad_enabled(False):\n",
    "        avg_cost = avg_cost/len(train_dataset)\n",
    "        epoch_costs.append(avg_cost)\n",
    "        print('Epoch: %03d/%03d training accuracy: %.2f%%' % (\n",
    "              epoch+1, 10, \n",
    "              compute_accuracy(model, train_loader)))\n",
    "        print('Time elapsed: %.2f min' % ((time.time() - start_time)/60))"
   ]
  },
  {
   "cell_type": "markdown",
   "metadata": {},
   "source": [
    "## Visualizing Loss"
   ]
  },
  {
   "cell_type": "code",
   "execution_count": 13,
   "metadata": {},
   "outputs": [
    {
     "data": {
      "image/png": "[encoded data removed]",
      "text/plain": [
       "<Figure size 640x480 with 1 Axes>"
      ]
     },
     "metadata": {},
     "output_type": "display_data"
    }
   ],
   "source": [
    "%matplotlib inline\n",
    "import matplotlib\n",
    "import matplotlib.pyplot as plt\n",
    "\n",
    "\n",
    "plt.plot(epoch_costs)\n",
    "plt.ylabel('Avg Cross Entropy Loss\\n(approximated by averaging over minibatches)')\n",
    "plt.xlabel('Epoch')\n",
    "plt.show()"
   ]
  },
  {
   "cell_type": "markdown",
   "metadata": {},
   "source": [
    "## Test Accuracy"
   ]
  },
  {
   "cell_type": "code",
   "execution_count": 14,
   "metadata": {},
   "outputs": [
    {
     "name": "stdout",
     "output_type": "stream",
     "text": [
      "Test accuracy: 92.09%\n"
     ]
    }
   ],
   "source": [
    "print('Test accuracy: %.2f%%' % (compute_accuracy(model, test_loader)))"
   ]
  },
  {
   "cell_type": "markdown",
   "metadata": {},
   "source": [
    "## Make predictions"
   ]
  },
  {
   "cell_type": "code",
   "execution_count": 15,
   "metadata": {},
   "outputs": [
    {
     "data": {
      "image/png": "[encoded data removed]",
      "text/plain": [
       "<Figure size 640x480 with 4 Axes>"
      ]
     },
     "metadata": {},
     "output_type": "display_data"
    }
   ],
   "source": [
    "for features, targets in test_loader:\n",
    "    break\n",
    "    \n",
    "fig, ax = plt.subplots(1, 4)\n",
    "for i in range(4):\n",
    "    ax[i].imshow(features[i].view(28, 28), cmap=matplotlib.cm.binary)\n",
    "\n",
    "plt.show()"
   ]
  },
  {
   "cell_type": "code",
   "execution_count": 16,
   "metadata": {},
   "outputs": [
    {
     "name": "stdout",
     "output_type": "stream",
     "text": [
      "Predicted labels tensor([7, 2, 1, 0])\n"
     ]
    }
   ],
   "source": [
    "_, predictions = model.forward(features[:4].view(-1, 28*28).to(DEVICE))\n",
    "predictions = torch.argmax(predictions, dim=1)\n",
    "print('Predicted labels', predictions)"
   ]
  }
 ],
 "metadata": {
  "kernelspec": {
   "display_name": "Python 3",
   "language": "python",
   "name": "python3"
  },
  "language_info": {
   "codemirror_mode": {
    "name": "ipython",
    "version": 3
   },
   "file_extension": ".py",
   "mimetype": "text/x-python",
   "name": "python",
   "nbconvert_exporter": "python",
   "pygments_lexer": "ipython3",
   "version": "3.11.9"
  }
 },
 "nbformat": 4,
 "nbformat_minor": 2
}
