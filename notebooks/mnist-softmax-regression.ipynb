{
 "cells": [
  {
   "cell_type": "markdown",
   "metadata": {},
   "source": [
    "### Softmax Regression on MNIST\n",
    "#### Implementation of softmax regression (multinomial logistic regression)"
   ]
  },
  {
   "cell_type": "markdown",
   "metadata": {},
   "source": [
    "#### Imports"
   ]
  },
  {
   "cell_type": "code",
   "execution_count": 2,
   "metadata": {},
   "outputs": [],
   "source": [
    "import time\n",
    "import torch\n",
    "import torch.nn.functional as F\n",
    "from torchvision import datasets\n",
    "from torchvision import transforms\n",
    "from torch.utils.data import DataLoader\n",
    "import matplotlib.pyplot as plt\n",
    "%matplotlib inline"
   ]
  },
  {
   "cell_type": "markdown",
   "metadata": {},
   "source": [
    "## Load the Dataset"
   ]
  },
  {
   "cell_type": "code",
   "execution_count": 4,
   "metadata": {},
   "outputs": [],
   "source": [
    "BATCH_SIZE = 256\n",
    "NUM_FEATURES = 784\n",
    "NUM_CLASSES = 10\n",
    "LEARNING_RATE = 0.1\n",
    "IMAGE_H_W = 28*28\n",
    "NUM_EPOCHS = 32"
   ]
  },
  {
   "cell_type": "code",
   "execution_count": 5,
   "metadata": {},
   "outputs": [],
   "source": [
    "# Define MNIST training dataset\n",
    "train_dataset = datasets.MNIST(root='mnist',\n",
    "                train=True,\n",
    "                download=True,\n",
    "                transform=transforms.ToTensor())\n",
    "\n",
    "# Define MNIST testing dataset\n",
    "test_dataset = datasets.MNIST(root='mnist',\n",
    "                train=False,\n",
    "                transform=transforms.ToTensor())\n",
    "\n",
    "# Download MNIST training dataset of batch size 256\n",
    "train_loader = DataLoader(dataset=train_dataset,\n",
    "            shuffle=True,\n",
    "            batch_size=BATCH_SIZE)\n",
    "\n",
    "# Download MNIST testing dataset of batch size 256\n",
    "test_loader = DataLoader(dataset=test_dataset,\n",
    "            shuffle=False,\n",
    "            batch_size=BATCH_SIZE)"
   ]
  },
  {
   "cell_type": "code",
   "execution_count": 6,
   "metadata": {},
   "outputs": [
    {
     "name": "stdout",
     "output_type": "stream",
     "text": [
      "Shape of feature image:  torch.Size([256, 1, 28, 28])\n",
      "Shape of label image:  torch.Size([256])\n"
     ]
    }
   ],
   "source": [
    "for images, labels in train_loader:\n",
    "    print(\"Shape of feature image: \", images.shape)\n",
    "    print(\"Shape of label image: \", labels.shape)\n",
    "    break"
   ]
  },
  {
   "cell_type": "code",
   "execution_count": 7,
   "metadata": {},
   "outputs": [
    {
     "name": "stdout",
     "output_type": "stream",
     "text": [
      "torch.Size([256, 1, 28, 28])\n"
     ]
    },
    {
     "name": "stderr",
     "output_type": "stream",
     "text": [
      "C:\\Users\\halig\\AppData\\Local\\Temp\\ipykernel_9556\\2409859267.py:2: UserWarning: To copy construct from a tensor, it is recommended to use sourceTensor.clone().detach() or sourceTensor.clone().detach().requires_grad_(True), rather than torch.tensor(sourceTensor).\n",
      "  print(torch.tensor(targets[0]).shape)\n"
     ]
    }
   ],
   "source": [
    "for targets in test_loader:\n",
    "    print(torch.tensor(targets[0]).shape)\n",
    "    break"
   ]
  },
  {
   "cell_type": "markdown",
   "metadata": {},
   "source": [
    "## Define, Initialise Model"
   ]
  },
  {
   "cell_type": "code",
   "execution_count": 8,
   "metadata": {},
   "outputs": [],
   "source": [
    "class SoftmaxRegression(torch.nn.Module):\n",
    "\n",
    "    def __init__(self, num_features, num_classes):\n",
    "        super(SoftmaxRegression, self).__init__() #class inheritance to ensure that the parent class is properly initialized.\n",
    "\n",
    "        self.linear = torch.nn.Linear(num_features, num_classes) # Net inputs\n",
    "        self.linear.weight.detach().zero_() # how the weight initialized\n",
    "        self.linear.bias.detach().zero_()  # how the bias are initialized\n",
    "\n",
    "    def forward(self, x):\n",
    "        logits = self.linear(x) # calling the linear\n",
    "        probs = F.softmax(logits, dim=1) # applying softmax non-linearity activation function\n",
    "        return logits, probs"
   ]
  },
  {
   "cell_type": "code",
   "execution_count": 9,
   "metadata": {},
   "outputs": [],
   "source": [
    "model = SoftmaxRegression(num_features=NUM_FEATURES, num_classes=NUM_CLASSES)"
   ]
  },
  {
   "cell_type": "code",
   "execution_count": 19,
   "metadata": {},
   "outputs": [],
   "source": [
    "DEVICE = torch.device('cuda:0' if torch.cuda.is_available() else 'cpu')"
   ]
  },
  {
   "cell_type": "code",
   "execution_count": 11,
   "metadata": {},
   "outputs": [
    {
     "data": {
      "text/plain": [
       "SoftmaxRegression(\n",
       "  (linear): Linear(in_features=784, out_features=10, bias=True)\n",
       ")"
      ]
     },
     "execution_count": 11,
     "metadata": {},
     "output_type": "execute_result"
    }
   ],
   "source": [
    "model.to(DEVICE)"
   ]
  },
  {
   "cell_type": "code",
   "execution_count": 12,
   "metadata": {},
   "outputs": [],
   "source": [
    "optimizer = torch.optim.SGD(model.parameters(), lr=LEARNING_RATE)"
   ]
  },
  {
   "cell_type": "code",
   "execution_count": 13,
   "metadata": {},
   "outputs": [],
   "source": [
    "# Cost function\n",
    "def compute_accuracy(model, data_loader):\n",
    "    correct_prediction, num_examples = 0, 0\n",
    "\n",
    "    for features, labels in data_loader:\n",
    "        # Data Parallelizm if GPU is available\n",
    "        features = features.view(-1, IMAGE_H_W).to(DEVICE)\n",
    "        labels = labels.to(DEVICE)\n",
    "        \n",
    "        logits, probs = model(features)\n",
    "        _, predicted_labels = torch.max(probs, 1)\n",
    "        num_examples += labels.size(0)\n",
    "        correct_prediction += (predicted_labels == labels).sum()\n",
    "\n",
    "    return correct_prediction.float() / num_examples * 100"
   ]
  },
  {
   "cell_type": "markdown",
   "metadata": {},
   "source": [
    "## Training on Mnist Dataset"
   ]
  },
  {
   "cell_type": "code",
   "execution_count": 14,
   "metadata": {},
   "outputs": [
    {
     "name": "stdout",
     "output_type": "stream",
     "text": [
      "Epoch: 001/032 | Batch 000/234 | Cost: 2.3026\n",
      "Epoch: 001/032 | Batch 050/234 | Cost: 0.7954\n",
      "Epoch: 001/032 | Batch 100/234 | Cost: 0.5941\n",
      "Epoch: 001/032 | Batch 150/234 | Cost: 0.5106\n",
      "Epoch: 001/032 | Batch 200/234 | Cost: 0.4894\n",
      "Epoch: 001/032 training accuracy: 87.84%\n",
      "Time elapsed: 0.18 min\n",
      "Epoch: 002/032 | Batch 000/234 | Cost: 0.4347\n",
      "Epoch: 002/032 | Batch 050/234 | Cost: 0.4396\n",
      "Epoch: 002/032 | Batch 100/234 | Cost: 0.3928\n",
      "Epoch: 002/032 | Batch 150/234 | Cost: 0.4706\n",
      "Epoch: 002/032 | Batch 200/234 | Cost: 0.4056\n",
      "Epoch: 002/032 training accuracy: 89.38%\n",
      "Time elapsed: 0.36 min\n",
      "Epoch: 003/032 | Batch 000/234 | Cost: 0.3778\n",
      "Epoch: 003/032 | Batch 050/234 | Cost: 0.4121\n",
      "Epoch: 003/032 | Batch 100/234 | Cost: 0.3513\n",
      "Epoch: 003/032 | Batch 150/234 | Cost: 0.3669\n",
      "Epoch: 003/032 | Batch 200/234 | Cost: 0.3068\n",
      "Epoch: 003/032 training accuracy: 89.95%\n",
      "Time elapsed: 0.55 min\n",
      "Epoch: 004/032 | Batch 000/234 | Cost: 0.3419\n",
      "Epoch: 004/032 | Batch 050/234 | Cost: 0.4272\n",
      "Epoch: 004/032 | Batch 100/234 | Cost: 0.3685\n",
      "Epoch: 004/032 | Batch 150/234 | Cost: 0.4154\n",
      "Epoch: 004/032 | Batch 200/234 | Cost: 0.3963\n",
      "Epoch: 004/032 training accuracy: 90.32%\n",
      "Time elapsed: 0.74 min\n",
      "Epoch: 005/032 | Batch 000/234 | Cost: 0.3920\n",
      "Epoch: 005/032 | Batch 050/234 | Cost: 0.3210\n",
      "Epoch: 005/032 | Batch 100/234 | Cost: 0.3159\n",
      "Epoch: 005/032 | Batch 150/234 | Cost: 0.3550\n",
      "Epoch: 005/032 | Batch 200/234 | Cost: 0.2358\n",
      "Epoch: 005/032 training accuracy: 90.61%\n",
      "Time elapsed: 0.92 min\n",
      "Epoch: 006/032 | Batch 000/234 | Cost: 0.4611\n",
      "Epoch: 006/032 | Batch 050/234 | Cost: 0.3507\n",
      "Epoch: 006/032 | Batch 100/234 | Cost: 0.3384\n",
      "Epoch: 006/032 | Batch 150/234 | Cost: 0.2989\n",
      "Epoch: 006/032 | Batch 200/234 | Cost: 0.2973\n",
      "Epoch: 006/032 training accuracy: 90.81%\n",
      "Time elapsed: 1.12 min\n",
      "Epoch: 007/032 | Batch 000/234 | Cost: 0.2935\n",
      "Epoch: 007/032 | Batch 050/234 | Cost: 0.3287\n",
      "Epoch: 007/032 | Batch 100/234 | Cost: 0.3490\n",
      "Epoch: 007/032 | Batch 150/234 | Cost: 0.3632\n",
      "Epoch: 007/032 | Batch 200/234 | Cost: 0.3270\n",
      "Epoch: 007/032 training accuracy: 91.07%\n",
      "Time elapsed: 1.32 min\n",
      "Epoch: 008/032 | Batch 000/234 | Cost: 0.3169\n",
      "Epoch: 008/032 | Batch 050/234 | Cost: 0.3175\n",
      "Epoch: 008/032 | Batch 100/234 | Cost: 0.3147\n",
      "Epoch: 008/032 | Batch 150/234 | Cost: 0.3054\n",
      "Epoch: 008/032 | Batch 200/234 | Cost: 0.3155\n",
      "Epoch: 008/032 training accuracy: 91.20%\n",
      "Time elapsed: 1.51 min\n",
      "Epoch: 009/032 | Batch 000/234 | Cost: 0.3833\n",
      "Epoch: 009/032 | Batch 050/234 | Cost: 0.2755\n",
      "Epoch: 009/032 | Batch 100/234 | Cost: 0.2778\n",
      "Epoch: 009/032 | Batch 150/234 | Cost: 0.2809\n",
      "Epoch: 009/032 | Batch 200/234 | Cost: 0.3534\n",
      "Epoch: 009/032 training accuracy: 91.36%\n",
      "Time elapsed: 1.70 min\n",
      "Epoch: 010/032 | Batch 000/234 | Cost: 0.3263\n",
      "Epoch: 010/032 | Batch 050/234 | Cost: 0.3754\n",
      "Epoch: 010/032 | Batch 100/234 | Cost: 0.3668\n",
      "Epoch: 010/032 | Batch 150/234 | Cost: 0.2778\n",
      "Epoch: 010/032 | Batch 200/234 | Cost: 0.2345\n",
      "Epoch: 010/032 training accuracy: 91.45%\n",
      "Time elapsed: 1.88 min\n",
      "Epoch: 011/032 | Batch 000/234 | Cost: 0.3244\n",
      "Epoch: 011/032 | Batch 050/234 | Cost: 0.2672\n",
      "Epoch: 011/032 | Batch 100/234 | Cost: 0.3569\n",
      "Epoch: 011/032 | Batch 150/234 | Cost: 0.2814\n",
      "Epoch: 011/032 | Batch 200/234 | Cost: 0.3080\n",
      "Epoch: 011/032 training accuracy: 91.58%\n",
      "Time elapsed: 2.06 min\n",
      "Epoch: 012/032 | Batch 000/234 | Cost: 0.3272\n",
      "Epoch: 012/032 | Batch 050/234 | Cost: 0.3950\n",
      "Epoch: 012/032 | Batch 100/234 | Cost: 0.2918\n",
      "Epoch: 012/032 | Batch 150/234 | Cost: 0.2533\n",
      "Epoch: 012/032 | Batch 200/234 | Cost: 0.2647\n",
      "Epoch: 012/032 training accuracy: 91.58%\n",
      "Time elapsed: 2.25 min\n",
      "Epoch: 013/032 | Batch 000/234 | Cost: 0.2467\n",
      "Epoch: 013/032 | Batch 050/234 | Cost: 0.3472\n",
      "Epoch: 013/032 | Batch 100/234 | Cost: 0.2420\n",
      "Epoch: 013/032 | Batch 150/234 | Cost: 0.2496\n",
      "Epoch: 013/032 | Batch 200/234 | Cost: 0.3839\n",
      "Epoch: 013/032 training accuracy: 91.70%\n",
      "Time elapsed: 2.43 min\n",
      "Epoch: 014/032 | Batch 000/234 | Cost: 0.2377\n",
      "Epoch: 014/032 | Batch 050/234 | Cost: 0.3141\n",
      "Epoch: 014/032 | Batch 100/234 | Cost: 0.3372\n",
      "Epoch: 014/032 | Batch 150/234 | Cost: 0.2910\n",
      "Epoch: 014/032 | Batch 200/234 | Cost: 0.2742\n",
      "Epoch: 014/032 training accuracy: 91.79%\n",
      "Time elapsed: 2.62 min\n",
      "Epoch: 015/032 | Batch 000/234 | Cost: 0.3048\n",
      "Epoch: 015/032 | Batch 050/234 | Cost: 0.2982\n",
      "Epoch: 015/032 | Batch 100/234 | Cost: 0.3102\n",
      "Epoch: 015/032 | Batch 150/234 | Cost: 0.2585\n",
      "Epoch: 015/032 | Batch 200/234 | Cost: 0.3384\n",
      "Epoch: 015/032 training accuracy: 91.78%\n",
      "Time elapsed: 2.81 min\n",
      "Epoch: 016/032 | Batch 000/234 | Cost: 0.3375\n",
      "Epoch: 016/032 | Batch 050/234 | Cost: 0.4098\n",
      "Epoch: 016/032 | Batch 100/234 | Cost: 0.2943\n",
      "Epoch: 016/032 | Batch 150/234 | Cost: 0.2913\n",
      "Epoch: 016/032 | Batch 200/234 | Cost: 0.2499\n",
      "Epoch: 016/032 training accuracy: 91.85%\n",
      "Time elapsed: 3.00 min\n",
      "Epoch: 017/032 | Batch 000/234 | Cost: 0.2460\n",
      "Epoch: 017/032 | Batch 050/234 | Cost: 0.3180\n",
      "Epoch: 017/032 | Batch 100/234 | Cost: 0.2765\n",
      "Epoch: 017/032 | Batch 150/234 | Cost: 0.2819\n",
      "Epoch: 017/032 | Batch 200/234 | Cost: 0.2277\n",
      "Epoch: 017/032 training accuracy: 91.94%\n",
      "Time elapsed: 3.20 min\n",
      "Epoch: 018/032 | Batch 000/234 | Cost: 0.3023\n",
      "Epoch: 018/032 | Batch 050/234 | Cost: 0.3174\n",
      "Epoch: 018/032 | Batch 100/234 | Cost: 0.2133\n",
      "Epoch: 018/032 | Batch 150/234 | Cost: 0.2529\n",
      "Epoch: 018/032 | Batch 200/234 | Cost: 0.3238\n",
      "Epoch: 018/032 training accuracy: 91.95%\n",
      "Time elapsed: 3.39 min\n",
      "Epoch: 019/032 | Batch 000/234 | Cost: 0.2013\n",
      "Epoch: 019/032 | Batch 050/234 | Cost: 0.2598\n",
      "Epoch: 019/032 | Batch 100/234 | Cost: 0.3309\n",
      "Epoch: 019/032 | Batch 150/234 | Cost: 0.3579\n",
      "Epoch: 019/032 | Batch 200/234 | Cost: 0.3083\n",
      "Epoch: 019/032 training accuracy: 91.94%\n",
      "Time elapsed: 3.58 min\n",
      "Epoch: 020/032 | Batch 000/234 | Cost: 0.2477\n",
      "Epoch: 020/032 | Batch 050/234 | Cost: 0.2444\n",
      "Epoch: 020/032 | Batch 100/234 | Cost: 0.2923\n",
      "Epoch: 020/032 | Batch 150/234 | Cost: 0.3356\n",
      "Epoch: 020/032 | Batch 200/234 | Cost: 0.2419\n",
      "Epoch: 020/032 training accuracy: 92.07%\n",
      "Time elapsed: 3.76 min\n",
      "Epoch: 021/032 | Batch 000/234 | Cost: 0.3456\n",
      "Epoch: 021/032 | Batch 050/234 | Cost: 0.2847\n",
      "Epoch: 021/032 | Batch 100/234 | Cost: 0.2523\n",
      "Epoch: 021/032 | Batch 150/234 | Cost: 0.2874\n",
      "Epoch: 021/032 | Batch 200/234 | Cost: 0.3102\n",
      "Epoch: 021/032 training accuracy: 92.05%\n",
      "Time elapsed: 3.95 min\n",
      "Epoch: 022/032 | Batch 000/234 | Cost: 0.3422\n",
      "Epoch: 022/032 | Batch 050/234 | Cost: 0.3455\n",
      "Epoch: 022/032 | Batch 100/234 | Cost: 0.3175\n",
      "Epoch: 022/032 | Batch 150/234 | Cost: 0.2980\n",
      "Epoch: 022/032 | Batch 200/234 | Cost: 0.2852\n",
      "Epoch: 022/032 training accuracy: 92.15%\n",
      "Time elapsed: 4.13 min\n",
      "Epoch: 023/032 | Batch 000/234 | Cost: 0.3814\n",
      "Epoch: 023/032 | Batch 050/234 | Cost: 0.3403\n",
      "Epoch: 023/032 | Batch 100/234 | Cost: 0.2081\n",
      "Epoch: 023/032 | Batch 150/234 | Cost: 0.2699\n",
      "Epoch: 023/032 | Batch 200/234 | Cost: 0.3248\n",
      "Epoch: 023/032 training accuracy: 92.10%\n",
      "Time elapsed: 4.32 min\n",
      "Epoch: 024/032 | Batch 000/234 | Cost: 0.2666\n",
      "Epoch: 024/032 | Batch 050/234 | Cost: 0.3035\n",
      "Epoch: 024/032 | Batch 100/234 | Cost: 0.3022\n",
      "Epoch: 024/032 | Batch 150/234 | Cost: 0.2089\n",
      "Epoch: 024/032 | Batch 200/234 | Cost: 0.4356\n",
      "Epoch: 024/032 training accuracy: 92.09%\n",
      "Time elapsed: 4.50 min\n",
      "Epoch: 025/032 | Batch 000/234 | Cost: 0.2833\n",
      "Epoch: 025/032 | Batch 050/234 | Cost: 0.2528\n",
      "Epoch: 025/032 | Batch 100/234 | Cost: 0.2035\n",
      "Epoch: 025/032 | Batch 150/234 | Cost: 0.2624\n",
      "Epoch: 025/032 | Batch 200/234 | Cost: 0.2593\n",
      "Epoch: 025/032 training accuracy: 92.25%\n",
      "Time elapsed: 4.68 min\n",
      "Epoch: 026/032 | Batch 000/234 | Cost: 0.2815\n",
      "Epoch: 026/032 | Batch 050/234 | Cost: 0.4216\n",
      "Epoch: 026/032 | Batch 100/234 | Cost: 0.4200\n",
      "Epoch: 026/032 | Batch 150/234 | Cost: 0.3062\n",
      "Epoch: 026/032 | Batch 200/234 | Cost: 0.1801\n",
      "Epoch: 026/032 training accuracy: 92.27%\n",
      "Time elapsed: 4.87 min\n",
      "Epoch: 027/032 | Batch 000/234 | Cost: 0.2842\n",
      "Epoch: 027/032 | Batch 050/234 | Cost: 0.2317\n",
      "Epoch: 027/032 | Batch 100/234 | Cost: 0.2538\n",
      "Epoch: 027/032 | Batch 150/234 | Cost: 0.2901\n",
      "Epoch: 027/032 | Batch 200/234 | Cost: 0.2469\n",
      "Epoch: 027/032 training accuracy: 92.30%\n",
      "Time elapsed: 5.05 min\n",
      "Epoch: 028/032 | Batch 000/234 | Cost: 0.2392\n",
      "Epoch: 028/032 | Batch 050/234 | Cost: 0.2663\n",
      "Epoch: 028/032 | Batch 100/234 | Cost: 0.2324\n",
      "Epoch: 028/032 | Batch 150/234 | Cost: 0.3152\n",
      "Epoch: 028/032 | Batch 200/234 | Cost: 0.3153\n",
      "Epoch: 028/032 training accuracy: 92.28%\n",
      "Time elapsed: 5.24 min\n",
      "Epoch: 029/032 | Batch 000/234 | Cost: 0.2224\n",
      "Epoch: 029/032 | Batch 050/234 | Cost: 0.3042\n",
      "Epoch: 029/032 | Batch 100/234 | Cost: 0.2004\n",
      "Epoch: 029/032 | Batch 150/234 | Cost: 0.2978\n",
      "Epoch: 029/032 | Batch 200/234 | Cost: 0.2821\n",
      "Epoch: 029/032 training accuracy: 92.32%\n",
      "Time elapsed: 5.42 min\n",
      "Epoch: 030/032 | Batch 000/234 | Cost: 0.2315\n",
      "Epoch: 030/032 | Batch 050/234 | Cost: 0.2294\n",
      "Epoch: 030/032 | Batch 100/234 | Cost: 0.3933\n",
      "Epoch: 030/032 | Batch 150/234 | Cost: 0.2262\n",
      "Epoch: 030/032 | Batch 200/234 | Cost: 0.3999\n",
      "Epoch: 030/032 training accuracy: 92.36%\n",
      "Time elapsed: 5.61 min\n",
      "Epoch: 031/032 | Batch 000/234 | Cost: 0.2699\n",
      "Epoch: 031/032 | Batch 050/234 | Cost: 0.2406\n",
      "Epoch: 031/032 | Batch 100/234 | Cost: 0.3223\n",
      "Epoch: 031/032 | Batch 150/234 | Cost: 0.2538\n",
      "Epoch: 031/032 | Batch 200/234 | Cost: 0.2615\n",
      "Epoch: 031/032 training accuracy: 92.35%\n",
      "Time elapsed: 5.80 min\n",
      "Epoch: 032/032 | Batch 000/234 | Cost: 0.3226\n",
      "Epoch: 032/032 | Batch 050/234 | Cost: 0.2229\n",
      "Epoch: 032/032 | Batch 100/234 | Cost: 0.3023\n",
      "Epoch: 032/032 | Batch 150/234 | Cost: 0.2806\n",
      "Epoch: 032/032 | Batch 200/234 | Cost: 0.2712\n",
      "Epoch: 032/032 training accuracy: 92.39%\n",
      "Time elapsed: 5.99 min\n"
     ]
    }
   ],
   "source": [
    "import time\n",
    "start_time = time.time()\n",
    "epoch_costs = []\n",
    "for epoch in range(NUM_EPOCHS):\n",
    "    avg_cost = 0.\n",
    "    for batch_idx, (features, labels) in enumerate(train_loader):\n",
    "\n",
    "        # Data Parallelism or Load the data to device\n",
    "        features = features.view(-1, IMAGE_H_W).to(DEVICE)\n",
    "        labels = labels.to(DEVICE)\n",
    "\n",
    "        # Forward and back prop\n",
    "        logits, probs = model(features)\n",
    "\n",
    "        cost = F.cross_entropy(logits, labels)\n",
    "        optimizer.zero_grad()\n",
    "        cost.backward()\n",
    "        avg_cost += cost \n",
    "\n",
    "        # Update the model parameter\n",
    "        optimizer.step()\n",
    "\n",
    "        # Logging\n",
    "        if not batch_idx % 50:\n",
    "           print ('Epoch: %03d/%03d | Batch %03d/%03d | Cost: %.4f' \n",
    "                   %(epoch+1, NUM_EPOCHS, batch_idx, \n",
    "                     len(train_dataset)//256, cost))\n",
    "\n",
    "    with torch.set_grad_enabled(False):\n",
    "        avg_cost = avg_cost/len(train_dataset)\n",
    "        epoch_costs.append(avg_cost)\n",
    "        print('Epoch: %03d/%03d training accuracy: %.2f%%' % (\n",
    "              epoch+1, NUM_EPOCHS, \n",
    "              compute_accuracy(model, train_loader)))\n",
    "        print('Time elapsed: %.2f min' % ((time.time() - start_time)/60))"
   ]
  },
  {
   "cell_type": "markdown",
   "metadata": {},
   "source": [
    "## Visualizing Loss"
   ]
  },
  {
   "cell_type": "code",
   "execution_count": 16,
   "metadata": {},
   "outputs": [
    {
     "data": {
      "image/png": "[encoded data removed]",
      "text/plain": [
       "<Figure size 640x480 with 1 Axes>"
      ]
     },
     "metadata": {},
     "output_type": "display_data"
    }
   ],
   "source": [
    "%matplotlib inline\n",
    "import matplotlib\n",
    "import matplotlib.pyplot as plt\n",
    "\n",
    "\n",
    "plt.plot(epoch_costs)\n",
    "plt.ylabel('Avg Cross Entropy Loss\\n(approximated by averaging over minibatches)')\n",
    "plt.xlabel('Epoch')\n",
    "plt.show()"
   ]
  },
  {
   "cell_type": "markdown",
   "metadata": {},
   "source": [
    "## Test Accuracy"
   ]
  },
  {
   "cell_type": "code",
   "execution_count": 17,
   "metadata": {},
   "outputs": [
    {
     "name": "stdout",
     "output_type": "stream",
     "text": [
      "Test accuracy: 92.35%\n"
     ]
    }
   ],
   "source": [
    "print('Test accuracy: %.2f%%' % (compute_accuracy(model, test_loader)))"
   ]
  },
  {
   "cell_type": "markdown",
   "metadata": {},
   "source": [
    "## Make predictions"
   ]
  },
  {
   "cell_type": "code",
   "execution_count": 18,
   "metadata": {},
   "outputs": [
    {
     "data": {
      "image/png": "[encoded data removed]",
      "text/plain": [
       "<Figure size 640x480 with 4 Axes>"
      ]
     },
     "metadata": {},
     "output_type": "display_data"
    }
   ],
   "source": [
    "for features, targets in test_loader:\n",
    "    break\n",
    "    \n",
    "fig, ax = plt.subplots(1, 4)\n",
    "for i in range(4):\n",
    "    ax[i].imshow(features[i].view(28, 28), cmap=matplotlib.cm.binary)\n",
    "\n",
    "plt.show()"
   ]
  },
  {
   "cell_type": "code",
   "execution_count": 15,
   "metadata": {},
   "outputs": [
    {
     "name": "stdout",
     "output_type": "stream",
     "text": [
      "Predicted labels tensor([1, 0, 8, 4])\n"
     ]
    }
   ],
   "source": [
    "_, predictions = model.forward(features[:4].view(-1, IMAGE_H_W).to(DEVICE))\n",
    "predictions = torch.argmax(predictions, dim=1)\n",
    "print('Predicted labels', predictions)"
   ]
  },
  {
   "cell_type": "code",
   "execution_count": null,
   "metadata": {},
   "outputs": [],
   "source": []
  }
 ],
 "metadata": {
  "kernelspec": {
   "display_name": "Python 3",
   "language": "python",
   "name": "python3"
  },
  "language_info": {
   "codemirror_mode": {
    "name": "ipython",
    "version": 3
   },
   "file_extension": ".py",
   "mimetype": "text/x-python",
   "name": "python",
   "nbconvert_exporter": "python",
   "pygments_lexer": "ipython3",
   "version": "3.11.9"
  }
 },
 "nbformat": 4,
 "nbformat_minor": 2
}
