{
 "cells": [
  {
   "cell_type": "markdown",
   "metadata": {},
   "source": [
    "## Data Augmentation Example"
   ]
  },
  {
   "cell_type": "code",
   "execution_count": 11,
   "metadata": {},
   "outputs": [],
   "source": [
    "import random\n",
    "import PIL\n",
    "import torch\n",
    "from torch.utils.data import DataLoader\n",
    "import torch.nn.functional as F\n",
    "import torchvision\n",
    "from torchvision import datasets\n",
    "from torchvision import transforms\n",
    "import matplotlib.pyplot as plt\n",
    "%matplotlib inline"
   ]
  },
  {
   "cell_type": "code",
   "execution_count": 12,
   "metadata": {},
   "outputs": [],
   "source": [
    "# ----------------\n",
    "# SETTINGS\n",
    "# ----------------\n",
    "RANDOM_SEED = 10\n",
    "BATCH_SIZE = 128\n",
    "NUM_EPOCHS = 100"
   ]
  },
  {
   "cell_type": "code",
   "execution_count": 13,
   "metadata": {},
   "outputs": [],
   "source": [
    "train_dataset = datasets.MNIST(root='mnist',\n",
    "               train=True,\n",
    "               transform=transforms.ToTensor(),\n",
    "               download=True)\n",
    "\n",
    "test_dataset = datasets.MNIST(root='mnist',\n",
    "               train=False,\n",
    "               transform=transforms.ToTensor())\n",
    "\n",
    "train_loader = DataLoader(dataset=train_dataset,\n",
    "           batch_size=BATCH_SIZE,\n",
    "           shuffle=True)\n",
    "\n",
    "test_loader = DataLoader(dataset=test_dataset,\n",
    "           batch_size=BATCH_SIZE,\n",
    "           shuffle=False)"
   ]
  },
  {
   "cell_type": "code",
   "execution_count": 14,
   "metadata": {},
   "outputs": [
    {
     "name": "stdout",
     "output_type": "stream",
     "text": [
      "Shape of Feature Image:  torch.Size([128, 1, 28, 28])\n",
      "Shape of Labeled Image:  torch.Size([128])\n"
     ]
    },
    {
     "data": {
      "image/png": "[encoded data removed]",
      "text/plain": [
       "<Figure size 640x480 with 4 Axes>"
      ]
     },
     "metadata": {},
     "output_type": "display_data"
    }
   ],
   "source": [
    "random.seed(RANDOM_SEED)\n",
    "torch.manual_seed(RANDOM_SEED)\n",
    "\n",
    "for features_img, labels_img in train_loader:\n",
    "    print(\"Shape of Feature Image: \", features_img.shape)\n",
    "    print(\"Shape of Labeled Image: \", labels_img.shape)\n",
    "    break\n",
    "\n",
    "fig, ax = plt.subplots(1, 4)\n",
    "for i in range(4):\n",
    "    ax[i].imshow(features_img[i].view(28, 28).numpy(), cmap='binary')\n",
    "\n",
    "plt.tight_layout()"
   ]
  },
  {
   "cell_type": "code",
   "execution_count": 16,
   "metadata": {},
   "outputs": [],
   "source": [
    "import PIL.Image\n",
    "\n",
    "training_transform_1 = transforms.Compose([\n",
    "    torchvision.transforms.Resize(size=(32, 32)),\n",
    "    torchvision.transforms.RandomCrop(size=(28, 28)),\n",
    "    torchvision.transforms.RandomRotation(degrees=30, interpolation=PIL.Image.BILINEAR),\n",
    "    torchvision.transforms.ToTensor(),\n",
    "    torchvision.transforms.Normalize(mean=(0.5,), std=(0.5,)),\n",
    "])\n",
    "\n",
    "test_transform_1 = transforms.Compose([\n",
    "    torchvision.transforms.ToTensor(),\n",
    "    torchvision.transforms.Resize(size=(32, 32)),\n",
    "    torchvision.transforms.CenterCrop(size=(28, 28)),\n",
    "    torchvision.transforms.Normalize(mean=(0.5,), std=(0.5,)),\n",
    "])"
   ]
  },
  {
   "cell_type": "code",
   "execution_count": 19,
   "metadata": {},
   "outputs": [],
   "source": [
    "\n",
    "train_dataset_1 = datasets.MNIST(root='mnist_copy',\n",
    "                train=True,\n",
    "                transform=training_transform_1,\n",
    "                download=True)\n",
    "\n",
    "test_dataset_1 = datasets.MNIST(root='mnist_copy',\n",
    "               train=False,\n",
    "               transform=test_transform_1)\n",
    "\n",
    "train_loader_1 = DataLoader(dataset=train_dataset_1,\n",
    "           batch_size=BATCH_SIZE,\n",
    "           shuffle=True)\n",
    "\n",
    "test_loader_1 = DataLoader(dataset=test_dataset_1,\n",
    "           batch_size=BATCH_SIZE,\n",
    "           shuffle=False)\n"
   ]
  },
  {
   "cell_type": "code",
   "execution_count": 21,
   "metadata": {},
   "outputs": [
    {
     "name": "stdout",
     "output_type": "stream",
     "text": [
      "Shape of Features Images:  torch.Size([128, 1, 28, 28])\n",
      "Shape of Labeled Images:  torch.Size([128])\n"
     ]
    },
    {
     "data": {
      "image/png": "[encoded data removed]",
      "text/plain": [
       "<Figure size 640x480 with 4 Axes>"
      ]
     },
     "metadata": {},
     "output_type": "display_data"
    }
   ],
   "source": [
    "random.seed(RANDOM_SEED)\n",
    "torch.manual_seed(RANDOM_SEED)\n",
    "\n",
    "for features, labels in train_loader_1:\n",
    "    print(\"Shape of Features Images: \", features.shape)\n",
    "    print(\"Shape of Labeled Images: \", labels.shape)\n",
    "    break\n",
    "\n",
    "fig, ax = plt.subplots(1, 4)\n",
    "for i in range(4):\n",
    "    ax[i].imshow(features[i].view(28, 28).numpy(), cmap='binary')\n",
    "plt.tight_layout()"
   ]
  },
  {
   "cell_type": "code",
   "execution_count": null,
   "metadata": {},
   "outputs": [],
   "source": []
  }
 ],
 "metadata": {
  "kernelspec": {
   "display_name": "Python 3",
   "language": "python",
   "name": "python3"
  },
  "language_info": {
   "codemirror_mode": {
    "name": "ipython",
    "version": 3
   },
   "file_extension": ".py",
   "mimetype": "text/x-python",
   "name": "python",
   "nbconvert_exporter": "python",
   "pygments_lexer": "ipython3",
   "version": "3.11.9"
  }
 },
 "nbformat": 4,
 "nbformat_minor": 2
}
